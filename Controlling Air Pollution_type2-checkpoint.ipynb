{
 "cells": [
  {
   "cell_type": "markdown",
   "metadata": {},
   "source": [
    "# Controlling Air Pollution example\n",
    "- 本範例為講義第三章p25.26題目\n",
    "<img src=\"http://localhost:8889/files/Controlling%20Air%20Pollution1.png\" width=\"400\">"
   ]
  },
  {
   "cell_type": "markdown",
   "metadata": {},
   "source": [
    "# Import gurobipy"
   ]
  },
  {
   "cell_type": "code",
   "execution_count": 18,
   "metadata": {
    "collapsed": true
   },
   "outputs": [],
   "source": [
    "from gurobipy import*"
   ]
  },
  {
   "cell_type": "markdown",
   "metadata": {},
   "source": [
    "# Model"
   ]
  },
  {
   "cell_type": "code",
   "execution_count": 3,
   "metadata": {
    "collapsed": true
   },
   "outputs": [],
   "source": [
    "m=Model(\"controlling air pullution_type2\")"
   ]
  },
  {
   "cell_type": "markdown",
   "metadata": {},
   "source": [
    "# Add parameters\n",
    "**c**:每個方法的成本<br>\n",
    "**p**:每個方法可以減少的量<br>\n",
    "**r**:每個汙染物至少要被減少的量<br>"
   ]
  },
  {
   "cell_type": "code",
   "execution_count": 4,
   "metadata": {
    "collapsed": true
   },
   "outputs": [],
   "source": [
    "c=[8,10,7,6,11,9]\n",
    "p=[[12,9,25,20,17,13],\n",
    "  [35,42,18,31,56,49],\n",
    "  [37,53,28,24,29,20]]\n",
    "r=[60,150,125]"
   ]
  },
  {
   "cell_type": "markdown",
   "metadata": {},
   "source": [
    "# Add decision variables"
   ]
  },
  {
   "cell_type": "code",
   "execution_count": 7,
   "metadata": {
    "collapsed": false
   },
   "outputs": [],
   "source": [
    "x={}\n",
    "for j in range(6):\n",
    "    x[j]=m.addVar(lb=0,ub=1,name=\"x_%d\"%j)"
   ]
  },
  {
   "cell_type": "markdown",
   "metadata": {},
   "source": [
    "# Update"
   ]
  },
  {
   "cell_type": "code",
   "execution_count": 8,
   "metadata": {
    "collapsed": true
   },
   "outputs": [],
   "source": [
    "m.update()"
   ]
  },
  {
   "cell_type": "markdown",
   "metadata": {},
   "source": [
    "# Add objective and constraints"
   ]
  },
  {
   "cell_type": "markdown",
   "metadata": {},
   "source": [
    "<img src=\"http://localhost:8889/files/Controlling%20Air%20Pollution2.png\" width=\"450\">"
   ]
  },
  {
   "cell_type": "code",
   "execution_count": 17,
   "metadata": {
    "collapsed": false
   },
   "outputs": [],
   "source": [
    "m.setObjective(quicksum(c[j]*x[j] for j in range(6)),GRB.MINIMIZE)\n",
    "for i in range(3):\n",
    "    m.addConstr(quicksum(p[i][j]*x[j] for j in range(6))>=r[i],\"c0\")"
   ]
  },
  {
   "cell_type": "markdown",
   "metadata": {},
   "source": [
    "# Result"
   ]
  },
  {
   "cell_type": "code",
   "execution_count": 6,
   "metadata": {
    "collapsed": false
   },
   "outputs": [
    {
     "name": "stdout",
     "output_type": "stream",
     "text": [
      "Optimize a model with 3 rows, 6 columns and 18 nonzeros\n",
      "Coefficient statistics:\n",
      "  Matrix range     [9e+00, 6e+01]\n",
      "  Objective range  [6e+00, 1e+01]\n",
      "  Bounds range     [1e+00, 1e+00]\n",
      "  RHS range        [6e+01, 2e+02]\n",
      "Presolve time: 0.00s\n",
      "Presolved: 3 rows, 6 columns, 18 nonzeros\n",
      "\n",
      "Iteration    Objective       Primal Inf.    Dual Inf.      Time\n",
      "       0    0.0000000e+00   6.171875e+00   0.000000e+00      0s\n",
      "       4    3.2154631e+01   0.000000e+00   0.000000e+00      0s\n",
      "\n",
      "Solved in 4 iterations and 0.01 seconds\n",
      "Optimal objective  3.215463133e+01\n",
      "('Obj:', 32.154631330359486)\n",
      "x1:1.000\n",
      "x2:0.623\n",
      "x3:0.343\n",
      "x4:1.000\n",
      "x5:0.048\n",
      "x6:1.000\n"
     ]
    }
   ],
   "source": [
    "m.optimize()\n",
    "print(\"Obj:\",m.objVal)\n",
    "for v in m.getVars():\n",
    "    print(\"%s:%.3f\"%(v.varName,v.x))"
   ]
  },
  {
   "cell_type": "code",
   "execution_count": null,
   "metadata": {
    "collapsed": true
   },
   "outputs": [],
   "source": []
  }
 ],
 "metadata": {
  "kernelspec": {
   "display_name": "Python 2",
   "language": "python",
   "name": "python2"
  },
  "language_info": {
   "codemirror_mode": {
    "name": "ipython",
    "version": 2
   },
   "file_extension": ".py",
   "mimetype": "text/x-python",
   "name": "python",
   "nbconvert_exporter": "python",
   "pygments_lexer": "ipython2",
   "version": "2.7.12"
  }
 },
 "nbformat": 4,
 "nbformat_minor": 1
}
